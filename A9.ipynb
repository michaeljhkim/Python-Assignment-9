{
 "cells": [
  {
   "cell_type": "markdown",
   "metadata": {
    "deletable": false,
    "editable": false,
    "nbgrader": {
     "cell_type": "markdown",
     "checksum": "2cead5c5450028bb4068d9941ec3c65a",
     "grade": false,
     "grade_id": "cell-2be37b2c9a689e04",
     "locked": true,
     "schema_version": 3,
     "solution": false,
     "task": false
    }
   },
   "source": [
    "# Assignment 9\n",
    "## File this under Challenging!\n",
    "### Maximum Grade: 21/18\n",
    "\n",
    "The purpose of this assignment is to:\n",
    "\n",
    "- Get students comfortable with File I/O\n",
    "- Teach how to convert from file type to file type\n",
    "- Cover usage of the Datetime Library\n",
    "- Prepare students for more difficult questions since exams are coming up!"
   ]
  },
  {
   "cell_type": "code",
   "execution_count": 3,
   "metadata": {
    "deletable": false,
    "editable": false,
    "nbgrader": {
     "cell_type": "code",
     "checksum": "abaa6c8750c4df91bc0cfaa79868325a",
     "grade": false,
     "grade_id": "cell-d841eb7f0a120e2b",
     "locked": true,
     "schema_version": 3,
     "solution": false,
     "task": false
    }
   },
   "outputs": [],
   "source": [
    "def tester(a, b=True):\n",
    "    \"\"\"\n",
    "    I am the function that tells you if you pass or fail tests.\n",
    "    Run me, please.\n",
    "    \"\"\"\n",
    "    return \"You Passed!\" if a == b else \"You Failed!\""
   ]
  },
  {
   "cell_type": "markdown",
   "metadata": {
    "deletable": false,
    "editable": false,
    "nbgrader": {
     "cell_type": "markdown",
     "checksum": "7ecb5f0e44045d367aea393afec1fd68",
     "grade": false,
     "grade_id": "cell-3e4a3aae901840ce",
     "locked": true,
     "schema_version": 3,
     "solution": false,
     "task": false
    }
   },
   "source": [
    "# Practice: Random Files (0 points)\n",
    "\n",
    "We have provided 2 practice files for you to open and experiment with. Just try various methods of opening them, copying their data to other files, counting characters, etc...\n",
    "\n",
    "Take this time to get familiar with operations as it will be assumed you have mastered them for the exam."
   ]
  },
  {
   "cell_type": "markdown",
   "metadata": {
    "deletable": false,
    "editable": false,
    "nbgrader": {
     "cell_type": "markdown",
     "checksum": "dcd16ba22da8f478f383521ef676ecff",
     "grade": false,
     "grade_id": "cell-50553ed3e91d6f8f",
     "locked": true,
     "schema_version": 3,
     "solution": false,
     "task": false
    }
   },
   "source": [
    "# Practice Question: Song Relevancy (0 points)\n",
    "\n",
    "A friend of yours has given you a JSON file chaulk full of songs! The issue is, there is a lot of data there and not all of it is really that helpful...\n",
    "You have been asked by your friend to write a program that opens the file, loads the data, and returns only the relevant information that is needed for searching.\n",
    "\n",
    "So, write a function called `relevent_info(path, fields)` that takes in the file path of the song JSON and the fields that you are going to be returning. We are only interested in top-level fields, absolutely no nested data is relevant to us. This means that you only have to go as far as `SONG[i][field]` for each field in `fields`.\n",
    "\n",
    "Append all your items to a list and return that, in the form of:\n",
    "\n",
    "`[SONG[0][field0], SONG[0][field1], SONG[1][field0], SONG[1][field1], ...]`\n",
    "\n",
    "All objects are found under the `\"songs\"` key in the JSON file, and you probably want to use the JSON library."
   ]
  },
  {
   "cell_type": "code",
   "execution_count": null,
   "metadata": {
    "deletable": false,
    "nbgrader": {
     "cell_type": "code",
     "checksum": "67321e93d136f369db2ca49cf03df25d",
     "grade": false,
     "grade_id": "cell-364eb601067203b5",
     "locked": false,
     "schema_version": 3,
     "solution": true,
     "task": false
    }
   },
   "outputs": [],
   "source": [
    "import json\n",
    "\n",
    "def relevant_info(path, fields):\n",
    "    str_fields = ''.join(fields)\n",
    "    \n",
    "    songs_data = open(path)\n",
    "    json_dict = json.load(songs_data)\n",
    "    \n",
    "    info_list = []\n",
    "    for i in json_dict[\"songs\"]:\n",
    "        info_list.append(i[str_fields])\n",
    "        \n",
    "    return info_list\n"
   ]
  },
  {
   "cell_type": "code",
   "execution_count": null,
   "metadata": {
    "deletable": false,
    "editable": false,
    "nbgrader": {
     "cell_type": "code",
     "checksum": "c7e3bf21ea0519e870cb1aa55be7182c",
     "grade": false,
     "grade_id": "cell-aebaaa02112b85bb",
     "locked": true,
     "schema_version": 3,
     "solution": false,
     "task": false
    }
   },
   "outputs": [],
   "source": [
    "print(\"Practice Question Test Case #1:\", tester(relevant_info(\"song_data.json\", ['title'])[:5], ['1904', '#40', '40oz to Freedom', '#41', 'American Girl']))\n",
    "print(\"Practice Question Test Case #2:\", tester(relevant_info(\"song_data.json\", \"img_url\"),['http://fireflygrove.com/songnotes/images/artists/TheTallestManOnEarth.jpg', 'http://fireflygrove.com/songnotes/images/artists/DaveMatthews.jpg', 'http://fireflygrove.com/songnotes/images/artists/Sublime.png', 'http://fireflygrove.com/songnotes/images/artists/DaveMatthews.jpg', 'http://fireflygrove.com/songnotes/images/artists/TomPetty.png', 'http://fireflygrove.com/songnotes/images/artists/ViolentFemmes.jpg', 'http://fireflygrove.com/songnotes/images/artists/DonMcLean.jpg', 'http://fireflygrove.com/songnotes/images/artists/VanMorrison.jpg', 'http://fireflygrove.com/songnotes/images/artists/JimmyBuffett.png', 'http://fireflygrove.com/songnotes/images/artists/Sublime.png', 'http://fireflygrove.com/songnotes/images/artists/JackJohnson.png', 'http://fireflygrove.com/songnotes/images/artists/JimmyBuffett.png', 'http://fireflygrove.com/songnotes/images/artists/TheLumineers.png', 'http://fireflygrove.com/songnotes/images/artists/VanMorrison.jpg', 'http://fireflygrove.com/songnotes/images/artists/ConorOberst.jpg', 'http://fireflygrove.com/songnotes/images/artists/Fun.png', 'http://fireflygrove.com/songnotes/images/artists/Donovan.jpg', 'http://fireflygrove.com/songnotes/images/artists/HarryChapin.jpg', 'http://fireflygrove.com/songnotes/images/artists/JimmyBuffett.png', 'http://fireflygrove.com/songnotes/images/artists/TheLumineers.png', 'http://fireflygrove.com/songnotes/images/artists/Radiohead.jpg', 'http://fireflygrove.com/songnotes/images/artists/JohnnyCash.png', 'http://fireflygrove.com/songnotes/images/artists/MasonJennings.jpg', 'http://fireflygrove.com/songnotes/images/artists/TheLumineers.png', 'http://fireflygrove.com/songnotes/images/artists/JimmyBuffett.png', 'http://fireflygrove.com/songnotes/images/artists/ReginaSpektor.jpg', 'http://fireflygrove.com/songnotes/images/artists/Oasis.png', 'http://fireflygrove.com/songnotes/images/artists/Journey.jpg', 'http://fireflygrove.com/songnotes/images/artists/ElvisPerkins.jpg', 'http://fireflygrove.com/songnotes/images/artists/JackJohnson.png', 'http://fireflygrove.com/songnotes/images/artists/JackJohnson.png', 'http://fireflygrove.com/songnotes/images/artists/FirstAidKit.png', 'http://fireflygrove.com/songnotes/images/artists/JackJohnson.png', 'http://fireflygrove.com/songnotes/images/artists/CatStevens.jpg', 'http://fireflygrove.com/songnotes/images/artists/JackJohnson.png', 'http://fireflygrove.com/songnotes/images/artists/TheLumineers.png', 'http://fireflygrove.com/songnotes/images/artists/TheLumineers.png', 'http://fireflygrove.com/songnotes/images/artists/JohnnyCash.png', 'http://fireflygrove.com/songnotes/images/artists/TomPetty.png', 'http://fireflygrove.com/songnotes/images/artists/BlitzenTrapper.jpg', 'http://fireflygrove.com/songnotes/images/artists/ConorOberst.jpg', 'http://fireflygrove.com/songnotes/images/artists/EmmylouHarris.jpg', 'http://fireflygrove.com/songnotes/images/artists/ArcadeFire.jpg', 'http://fireflygrove.com/songnotes/images/artists/ArcadeFire.jpg', 'http://fireflygrove.com/songnotes/images/artists/NeilYoung.png', 'http://fireflygrove.com/songnotes/images/artists/NeilYoung.png', 'http://fireflygrove.com/songnotes/images/artists/Whitesnake.jpg', 'http://fireflygrove.com/songnotes/images/artists/GinBlossoms.jpg', 'http://fireflygrove.com/songnotes/images/artists/Train.jpg', 'http://fireflygrove.com/songnotes/images/artists/Radiohead.jpg', 'http://fireflygrove.com/songnotes/images/artists/TheLumineers.png', 'http://fireflygrove.com/songnotes/images/artists/FatherJohnMisty.jpg', 'http://fireflygrove.com/songnotes/images/artists/EdwardSharpeAndTheMagneticZeroes.png', 'http://fireflygrove.com/songnotes/images/artists/JimmyBuffett.png', 'http://fireflygrove.com/songnotes/images/artists/MasonJennings.jpg', 'http://fireflygrove.com/songnotes/images/artists/TheEagles.jpg', 'http://fireflygrove.com/songnotes/images/artists/TheWhiteStripes.jpg', 'http://fireflygrove.com/songnotes/images/artists/OAR.jpg', 'http://fireflygrove.com/songnotes/images/artists/TaylorSwift.png', 'http://fireflygrove.com/songnotes/images/artists/FatherJohnMisty.jpg', 'http://fireflygrove.com/songnotes/images/artists/Weezer.jpg', 'http://fireflygrove.com/songnotes/images/artists/JasonMraz.png', 'http://fireflygrove.com/songnotes/images/artists/JohnMellencamp.png', 'http://fireflygrove.com/songnotes/images/artists/Radiohead.jpg', 'http://fireflygrove.com/songnotes/images/artists/TheTallestManOnEarth.jpg', 'http://fireflygrove.com/songnotes/images/artists/FirstAidKit.png', 'http://fireflygrove.com/songnotes/images/artists/BillWithers.png', 'http://fireflygrove.com/songnotes/images/artists/OfMonstersAndMen.png', 'http://fireflygrove.com/songnotes/images/artists/AvettBrothers.jpg', 'http://fireflygrove.com/songnotes/images/artists/Kinks.jpg', 'http://fireflygrove.com/songnotes/images/artists/RickyNelson.jpg', 'http://fireflygrove.com/songnotes/images/artists/JimmyBuffett.png', 'http://fireflygrove.com/songnotes/images/artists/TaylorSwift.png', 'http://fireflygrove.com/songnotes/images/artists/JimmyBuffett.png', 'http://fireflygrove.com/songnotes/images/artists/PaulSimon.jpg', 'http://fireflygrove.com/songnotes/images/artists/JimmyBuffett.png', 'http://fireflygrove.com/songnotes/images/artists/CatStevens.jpg', 'http://fireflygrove.com/songnotes/images/artists/JackJohnson.png', 'http://fireflygrove.com/songnotes/images/artists/EmmylouHarris.jpg', 'http://fireflygrove.com/songnotes/images/artists/Sublime.png', 'http://fireflygrove.com/songnotes/images/artists/Radiohead.jpg', 'http://fireflygrove.com/songnotes/images/artists/MasonJennings.jpg', 'http://fireflygrove.com/songnotes/images/artists/Metallica.jpg', 'http://fireflygrove.com/songnotes/images/artists/FatherJohnMisty.jpg', 'http://fireflygrove.com/songnotes/images/artists/NeilYoung.png', 'http://fireflygrove.com/songnotes/images/artists/MileyCyrus.jpg', 'http://fireflygrove.com/songnotes/images/artists/GunsNRoses.png', 'http://fireflygrove.com/songnotes/images/artists/BobMarley.jpg', 'http://fireflygrove.com/songnotes/images/artists/Sublime.png', 'http://fireflygrove.com/songnotes/images/artists/EltonJohn.jpg', 'http://fireflygrove.com/songnotes/images/artists/JackJohnson.png', 'http://fireflygrove.com/songnotes/images/artists/ElvisPerkins.jpg', 'http://fireflygrove.com/songnotes/images/artists/SheAndHim.jpg', 'http://fireflygrove.com/songnotes/images/artists/BobDylan.jpg', 'http://fireflygrove.com/songnotes/images/artists/Fun.png', 'http://fireflygrove.com/songnotes/images/artists/Keane.jpg', 'http://fireflygrove.com/songnotes/images/artists/DavidBowie.jpg', 'http://fireflygrove.com/songnotes/images/artists/DaveMatthews.jpg', 'http://fireflygrove.com/songnotes/images/artists/TheLumineers.png', 'http://fireflygrove.com/songnotes/images/artists/StealersWheel.png', 'http://fireflygrove.com/songnotes/images/artists/TheLumineers.png', 'http://fireflygrove.com/songnotes/images/artists/NeilYoung.png', 'http://fireflygrove.com/songnotes/images/artists/BryanAdams.jpg', 'http://fireflygrove.com/songnotes/images/artists/LynyrdSkynyrd.jpg', 'http://fireflygrove.com/songnotes/images/artists/BobDylan.jpg', 'http://fireflygrove.com/songnotes/images/artists/BenHarper.jpg', 'http://fireflygrove.com/songnotes/images/artists/Dispatch.jpg', 'http://fireflygrove.com/songnotes/images/artists/FirstAidKit.png', 'http://fireflygrove.com/songnotes/images/artists/BobDylan.jpg', 'http://fireflygrove.com/songnotes/images/artists/Chvrches.jpg', 'http://fireflygrove.com/songnotes/images/artists/NeilYoung.png', 'http://fireflygrove.com/songnotes/images/artists/JimmyBuffett.png', 'http://fireflygrove.com/songnotes/images/artists/TheBand.jpg', 'http://fireflygrove.com/songnotes/images/artists/JimmyBuffett.png', 'http://fireflygrove.com/songnotes/images/artists/EltonJohn.jpg', 'http://fireflygrove.com/songnotes/images/artists/JimmyBuffett.png', 'http://fireflygrove.com/songnotes/images/artists/TheChurch.jpg', 'http://fireflygrove.com/songnotes/images/artists/Coldplay.jpg', 'http://fireflygrove.com/songnotes/images/artists/JohnLennon.jpg', 'http://fireflygrove.com/songnotes/images/artists/BillyBraggWilco.jpg', 'http://fireflygrove.com/songnotes/images/artists/TaylorSwift.png', 'http://fireflygrove.com/songnotes/images/artists/TheWhiteStripes.jpg', 'http://fireflygrove.com/songnotes/images/artists/Sublime.png', 'http://fireflygrove.com/songnotes/images/artists/TheTallestManOnEarth.jpg', 'http://fireflygrove.com/songnotes/images/artists/TheBeatles.jpg', 'http://fireflygrove.com/songnotes/images/artists/VampireWeekend.jpg', 'http://fireflygrove.com/songnotes/images/artists/TaylorSwift.png', 'http://fireflygrove.com/songnotes/images/artists/DeVotchKa.jpg']))\n",
    "print(\"Practice Question Test Case #3:\", tester(relevant_info(\"song_data.json\", ['title'])[:15], \n",
    "        ['1904',\n",
    "         '#40',\n",
    "         '40oz to Freedom',\n",
    "         '#41',\n",
    "         'American Girl',\n",
    "         'American Music',\n",
    "         'American Pie',\n",
    "         'And it Stoned Me',\n",
    "         \"A Sailor's Christmas\",\n",
    "         'Badfish',\n",
    "         'Banana Pancakes',\n",
    "         'Barefoot Children',\n",
    "         'Big Parade',\n",
    "         'Brown Eyed Girl',\n",
    "         'Cape Canaveral']\n",
    "        ))"
   ]
  },
  {
   "cell_type": "markdown",
   "metadata": {
    "deletable": false,
    "editable": false,
    "nbgrader": {
     "cell_type": "markdown",
     "checksum": "5505926ef92acc3b73511b9d1f2da432",
     "grade": false,
     "grade_id": "cell-cbdd9b2d88f71dda",
     "locked": true,
     "schema_version": 3,
     "solution": false,
     "task": false
    }
   },
   "source": [
    "# Question 1: Conversion Disarray! [5 points]\n",
    "\n",
    "Over the Summer, Mark worked with a lot of different APIs for his co-op. When you are bouncing from project to project, it is important that everything be organized and documented. Insert OpenAPI and Swagger: Documentation of an API that you would give to a client to act as an Operation Manual.\n",
    "\n",
    "The issue is, sometimes you don't need everything from the Swagger and the file format is a bit... meh. Swagger is commonly written in YAML, which is whitespace driven, while JSON is bracket driven. You guys would say that Python is to YAML as Java is to JSON, whitespace language vs bracket and semicolon style language.\n",
    "\n",
    "Write a function `converter(swagger, outfile, filters)` which takes in a swagger.yaml file input, an output json file, and a list of filter functions. \n",
    "\n",
    "Now, we can't guarentee that the person using this function is smart, so they may forget to include file extensions. If the `swagger` file doesn't open, add `.yaml` to it to try again (regardless of if it ends in `.yaml` or not!)\n",
    "\n",
    "Similarly, make sure that your `outfile` ends in `.json`. If it doesn't, add it!\n",
    "\n",
    "But what does the `filters` do? Well, sometimes I am looking for a specific class in my swagger file. For this question, you can assume swagger always will look like this, and that this is all you need to do the question:\n",
    "\n",
    "```json\n",
    "{\n",
    "    'openapi': '...',\n",
    "    'info': { ... },\n",
    "    'tags': [ ... ],\n",
    "    'servers': [ ... ],\n",
    "    'paths': {\n",
    "        'path_name_1': { ... },\n",
    "        'path_name_2': { ... },\n",
    "        'path_name_3': { ... },\n",
    "    },\n",
    "    'components': {\n",
    "        'schemas': {\n",
    "            'class_name_1': { ... },\n",
    "            'class_name_2': { ... },\n",
    "            'class_name_3': { ... },\n",
    "        },\n",
    "        'responses': { ... },\n",
    "    }\n",
    "}\n",
    "```\n",
    "\n",
    "- If `filters` is an empty list, just clone the YAML information to JSON. No need to do anything funky.\n",
    "- Otherwise, the `filters` list will contain strings that are class names in the config.\n",
    "    - If there are items in `filters`, your output will be a dictionary like so:\n",
    "        ```json\n",
    "        output = {\n",
    "            'openapi': '...',\n",
    "            'info': { ... },\n",
    "            'tags': [ ... ],\n",
    "            'servers': [ ... ],\n",
    "            'paths': {\n",
    "                'path_including_filter_1': { ... },\n",
    "                'path_including_filter_2': { ... },\n",
    "            },\n",
    "            'components': {\n",
    "                'schemas': {\n",
    "                    'filter': { ... },\n",
    "                },\n",
    "                'responses': { ... },\n",
    "        }\n",
    "        ```\n",
    "        - `output['paths']`\n",
    "            - Only include items where the path name contains the filter item (no spaces, no capitals please)\n",
    "        - `output['components']['schemas']`\n",
    "            - Only include items where the class name is EXACTLY equal to the filter item (Spaces and Capitals allowed now!)\n",
    "            \n",
    "Your job is, read the file, filter the information, write to a new file, and return what was written to that new file. This is a lot of information to be thrown at you, but it actually isn't that much. Don't overthink this! Do it in steps to really help you:\n",
    "\n",
    "1. Read the file and write the contents to a variable\n",
    "    - Reading in YAML is weird, so I will give this to you: `yaml.load(file, Loader=yaml.loader.SafeLoader)`\n",
    "2. Make a new variable with what you plan on writing to the file\n",
    "3. Filter items from the `contents` to the `output` variable\n",
    "4. Write `output` variable to file using `json.dump()`\n",
    "5. Return `output` variable\n",
    "\n",
    "**Note:** You will need the JSON and YAML libraries! YAML doesn't come with python, but is on the JHub server. On local machine, run `pip install pyyaml` or `conda install pyyaml` depending on what you use!"
   ]
  },
  {
   "cell_type": "code",
   "execution_count": 4,
   "metadata": {
    "deletable": false,
    "nbgrader": {
     "cell_type": "code",
     "checksum": "25f409207a25bf4bdc487ea5dc894375",
     "grade": false,
     "grade_id": "cell-604506dc23576ac4",
     "locked": false,
     "schema_version": 3,
     "solution": true,
     "task": false
    }
   },
   "outputs": [],
   "source": [
    "import yaml\n",
    "import json\n",
    "\n",
    "def converter(swagger: str, outfile: str, filters: list) -> dict:\n",
    "    \n",
    "    if '.yaml' not in swagger:\n",
    "        file = swagger + '.yaml'\n",
    "    else:\n",
    "        file = swagger\n",
    "        \n",
    "    file_content = yaml.load(open(file), Loader=yaml.loader.SafeLoader)\n",
    "    path_filter = list(file_content['paths'].keys())\n",
    "    schemas_filter = list(file_content['components']['schemas'].keys())\n",
    "    \n",
    "    if filters:\n",
    "        for i in filters:\n",
    "            path_filter = filter(lambda x: i.lower() not in x.strip().lower(), path_filter)\n",
    "            schemas_filter = filter(lambda y: i != y, schemas_filter)\n",
    "\n",
    "        for z in path_filter:\n",
    "            del file_content['paths'][z]\n",
    "        for u in schemas_filter:\n",
    "            del file_content['components']['schemas'][u]\n",
    "\n",
    "\n",
    "        if '.json' not in outfile:\n",
    "            jfile = outfile + '.yaml'\n",
    "        else:\n",
    "            jfile = outfile\n",
    "    \n",
    "    json.dump(file_content, open(jfile, 'w') )\n",
    "    \n",
    "    return file_content\n",
    "\n"
   ]
  },
  {
   "cell_type": "code",
   "execution_count": 5,
   "metadata": {
    "deletable": false,
    "editable": false,
    "nbgrader": {
     "cell_type": "code",
     "checksum": "bab3a1e84341d587e5ca301404b65f76",
     "grade": false,
     "grade_id": "cell-b68d7e9dc4fbbce3",
     "locked": true,
     "schema_version": 3,
     "solution": false,
     "task": false
    }
   },
   "outputs": [
    {
     "name": "stdout",
     "output_type": "stream",
     "text": [
      "Question #1 - Test Case #1: You Passed!\n"
     ]
    }
   ],
   "source": [
    "print(\"Question #1 - Test Case #1:\", \n",
    "    tester(\n",
    "        converter('config1.yaml', 'config1out.json', ['Auth']), \n",
    "        {\n",
    "            'openapi': '3.0.3', \n",
    "             'info': {\n",
    "                 'title': 'Project', \n",
    "                 'description': 'Description of project that cannot be named.\\nLast update: 2021-04-08\\n', \n",
    "                 'version': '1.0.0'\n",
    "             }, \n",
    "            'servers': [\n",
    "                {'url': 'http://localhost:6060', 'description': 'Direct access'}\n",
    "            ], \n",
    "            'tags': [{'name': 'Identification'}, {'name': 'Chat'}, {'name': 'Link'}, {'name': 'Notification'}, {'name': 'User'}, {'name': 'Websocket'}], \n",
    "            'paths': {\n",
    "                '/api/v1/ws/auth': {'get': {'summary': 'Get websocket token', 'description': 'Returns a temporary authentication token for connecting to the websocket feeds. The token is valid for a specific challenge. The token issued is only valid for 15 seconds.', 'tags': ['Websocket'], 'parameters': [{'name': 'challenge', 'in': 'query', 'description': 'UUID of challenge', 'required': True, 'schema': {'type': 'string'}}], 'responses': {'200': {'description': 'Websocket token', 'content': {'application/json': {'schema': {'$ref': '#/components/schemas/authHandlerResp'}, 'example': {'data': 'Successfully generated websocket authorization token, valid for 15s.', 'success': True, 'token': 'iJV8ob8oqN8a929Vhm5OX4abgnafWPsy3YHmqx3LPms='}}}}, '400': {'$ref': '#/components/responses/BadRequest'}, '401': {'$ref': '#/components/responses/Unauthorized'}, '500': {'$ref': '#/components/responses/InternalServerError'}}}}, \n",
    "                '/id/auth': {'post': {'summary': 'Generate user authentication token', 'description': 'Generates a URL containing a temporary access token for authenticating with the challenge mapping application. User browser must be redirected to this URL to perform authentication. URL is valid for 30 seconds. Requires `Authorization` header sent with request.', 'tags': ['Identification'], 'parameters': [{'name': 'username', 'in': 'query', 'description': 'Username to authenticate', 'required': True, 'schema': {'type': 'string'}}, {'name': 'challenge', 'in': 'query', 'description': 'UUID of challenge to redirect user to', 'required': False, 'schema': {'type': 'string'}}], 'responses': {'200': {'description': 'Successful token generation', 'content': {'application/json': {'schema': {'$ref': '#/components/schemas/authHandlerResp'}, 'example': {'data': 'Generated authentication URL for test@basadur.com, expires in 30s.', 'success': True, 'url': 'https://challenge.basadurprofile.com/id/login?token=-j1j0tTWiwsGfta7L6LgqgdN-Rj8mgFYg-6YilNOlHo='}}}}, '400': {'$ref': '#/components/responses/BadRequest'}, '401': {'$ref': '#/components/responses/Unauthorized'}, '500': {'$ref': '#/components/responses/InternalServerError'}}}}}, \n",
    "            'components': {\n",
    "                'schemas': {'Auth': {'type': 'object', 'required': ['UUID', 'Username', 'Email', 'Name', 'Activated', 'LastActivity', 'LastSync', 'SystemAdmin', 'GlobalCofacilitator'], 'properties': {'Activated': {'type': 'boolean'}, 'Email': {'type': 'string'}, 'GlobalCofacilitator': {'type': 'boolean'}, 'LastActivity': {'$ref': '#/components/schemas/Time'}, 'LastSync': {'$ref': '#/components/schemas/Time'}, 'Name': {'type': 'string'}, 'SystemAdmin': {'type': 'boolean'}, 'UUID': {'type': 'string'}, 'Username': {'type': 'string'}}}}, \n",
    "                'responses': {'BadRequest': {'description': 'Bad request format', 'content': {'application/json': {'schema': {'$ref': '#/components/schemas/GeneralResponse'}, 'example': {'data': 'Invalid request.', 'success': False}}}}, 'InternalServerError': {'description': 'Unexpected error', 'content': {'application/json': {'schema': {'$ref': '#/components/schemas/GeneralResponse'}, 'example': {'data': 'Internal error has occurred. Contact system administrator.', 'success': False}}}}, 'Success': {'description': 'Successful request', 'content': {'application/json': {'schema': {'$ref': '#/components/schemas/GeneralResponse'}, 'example': {'data': 'Successful request.', 'success': True}}}}, 'Unauthorized': {'description': 'Invalid permissions or invalid Authorization header', 'content': {'application/json': {'schema': {'$ref': '#/components/schemas/GeneralResponse'}, 'example': {'data': 'Not authorized to perform action.', 'success': False}}}}, 'WebsocketError': {'description': 'Failed to upgrade request to Websocket connection', 'content': {'application/json': {'schema': {'$ref': '#/components/schemas/GeneralResponse'}, 'example': {'data': 'Failed to upgrade request to WebSocket.', 'success': False}}}}}}\n",
    "        }\n",
    "    )\n",
    ")"
   ]
  },
  {
   "cell_type": "code",
   "execution_count": null,
   "metadata": {
    "deletable": false,
    "editable": false,
    "nbgrader": {
     "cell_type": "code",
     "checksum": "f6292567186ff444ad25d17195b10eb5",
     "grade": true,
     "grade_id": "cell-cf0002b3f5eef53a",
     "locked": true,
     "points": 1,
     "schema_version": 3,
     "solution": false,
     "task": false
    }
   },
   "outputs": [],
   "source": [
    "# Hidden Test for question 1"
   ]
  },
  {
   "cell_type": "code",
   "execution_count": null,
   "metadata": {
    "deletable": false,
    "editable": false,
    "nbgrader": {
     "cell_type": "code",
     "checksum": "0666dc11a2ae124a708907dd25a0d03a",
     "grade": true,
     "grade_id": "cell-a370d0507f38f023",
     "locked": true,
     "points": 2,
     "schema_version": 3,
     "solution": false,
     "task": false
    }
   },
   "outputs": [],
   "source": [
    "# Hidden Test for question 1"
   ]
  },
  {
   "cell_type": "code",
   "execution_count": null,
   "metadata": {
    "deletable": false,
    "editable": false,
    "nbgrader": {
     "cell_type": "code",
     "checksum": "97c933811ca82080293a56ea516d4bfa",
     "grade": true,
     "grade_id": "cell-c82b1a9a758e64aa",
     "locked": true,
     "points": 2,
     "schema_version": 3,
     "solution": false,
     "task": false
    }
   },
   "outputs": [],
   "source": [
    "# Hidden Test for question 1"
   ]
  },
  {
   "cell_type": "markdown",
   "metadata": {
    "deletable": false,
    "editable": false,
    "nbgrader": {
     "cell_type": "markdown",
     "checksum": "8dfe255c1c435e314e0b5d462e2d07a0",
     "grade": false,
     "grade_id": "cell-72a94a8215ddd2db",
     "locked": true,
     "schema_version": 3,
     "solution": false,
     "task": false
    }
   },
   "source": [
    "# Question 2: Stocks [6 points]\n",
    "\n",
    "Here is a question from a couple years ago:\n",
    "\n",
    "> Let's assume I'm playing the stock market - buy low, sell high. I'm a day trader, so I want to get in and out of a stock before the day is done, and I want to time my trades so that I make the biggest gain possible. And obviously I can't buy in the future and sell in the past.\n",
    ">\n",
    "> Write a function stocks(s) that emits the two trades in chronological order - what you think I should buy at and sell at - in order to maximize my profit.\n",
    "\n",
    "Do this question, but load your data from a .csv file on a remote server. The .csv file will be formatted like so:\n",
    "\n",
    "```\n",
    "Date,Open,High,Low,Close,Adj Close,Volume\n",
    "2013-12-24,16295.700195,16360.599609,16295.700195,16357.549805,16357.549805,33640000\n",
    "2013-12-26,16370.969727,16483.000000,16370.969727,16479.880859,16479.880859,50160000\n",
    "2013-12-27,16486.369141,16529.009766,16461.230469,16478.410156,16478.410156,47230000\n",
    "2013-12-30,16484.509766,16504.349609,16476.869141,16504.289063,16504.289063,54220000\n",
    "```\n",
    "\n",
    "Assume that you buy at the value in the \"Low\" column, and sell at the value in \"High\". You may not buy and sell on the same day. Your functions, `stocks(s)` should take in a string of the filename of a CSV file containing the data. \n",
    "\n",
    "You may **NOT** assume the file is in chronological order. You need to sort it yourself. We know all dates are in the format `'%m/%d/%Y'` and this is an assumption you are completely valid making."
   ]
  },
  {
   "cell_type": "code",
   "execution_count": 31,
   "metadata": {
    "deletable": false,
    "nbgrader": {
     "cell_type": "code",
     "checksum": "51968d323595053cb0f1d8209feaaf8e",
     "grade": false,
     "grade_id": "cell-8ee85b9246975636",
     "locked": false,
     "schema_version": 3,
     "solution": true,
     "task": false
    }
   },
   "outputs": [],
   "source": [
    "import csv\n",
    "from datetime import datetime\n",
    "\n",
    "def sortDates(datesList):\n",
    "    split_date = datesList[0].split('/')\n",
    "    return split_date[2], split_date[0], split_date[1]\n",
    "\n",
    "# Write your answer here.\n",
    "def stocks(path):\n",
    "    csv_rows = []\n",
    "    \n",
    "    with open(path, 'r') as file:\n",
    "        reader = csv.reader(file)\n",
    "        for x in reader:\n",
    "            csv_rows.append(x)\n",
    "        del csv_rows[0]\n",
    "        \n",
    "    #sorts the dates\n",
    "    csv_rows.sort(key=sortDates)\n",
    "    \n",
    "    Lowest = float(csv_rows[0][3])\n",
    "    Highest = 0\n",
    "    \n",
    "    for x in range(len(csv_rows)):\n",
    "        for i in range(x, len(csv_rows)-1):\n",
    "            curr_i = float(csv_rows[i+1][2])\n",
    "            if curr_i > Highest:\n",
    "                Highest = curr_i\n",
    "        curr_x = float(csv_rows[x][3])\n",
    "        if curr_x < Lowest:\n",
    "                Lowest = curr_x\n",
    "        \n",
    "    return [Lowest, Highest] "
   ]
  },
  {
   "cell_type": "markdown",
   "metadata": {
    "deletable": false,
    "editable": false,
    "nbgrader": {
     "cell_type": "markdown",
     "checksum": "202c14374800aa2d9b33921d55226d36",
     "grade": false,
     "grade_id": "cell-79e058e27a264d91",
     "locked": true,
     "schema_version": 3,
     "solution": false,
     "task": false
    }
   },
   "source": [
    "The cell below is how the autograder will be evaluating your answer. It only needs to be correct to two decimal places. Make sure you return a list of floating point numbers."
   ]
  },
  {
   "cell_type": "code",
   "execution_count": 32,
   "metadata": {
    "deletable": false,
    "editable": false,
    "nbgrader": {
     "cell_type": "code",
     "checksum": "48656c3ef29bed04e808feebc3cc1541",
     "grade": false,
     "grade_id": "cell-2a4a1695bfd93b9a",
     "locked": true,
     "schema_version": 3,
     "solution": false,
     "task": false
    }
   },
   "outputs": [
    {
     "name": "stdout",
     "output_type": "stream",
     "text": [
      "Question #2 Test Case #1: You Passed!\n",
      "Question #2 Test Case #2: You Passed!\n"
     ]
    }
   ],
   "source": [
    "trades = stocks(\"DJI1.csv\")\n",
    "print(\"Question #2 Test Case #1:\", tester(round(trades[0], 2), 27325.13))\n",
    "print(\"Question #2 Test Case #2:\", tester(round(trades[1], 2), 28608.64))"
   ]
  },
  {
   "cell_type": "code",
   "execution_count": null,
   "metadata": {
    "deletable": false,
    "editable": false,
    "nbgrader": {
     "cell_type": "code",
     "checksum": "6171813bf7845cbd0c16394e2a0bd2e4",
     "grade": true,
     "grade_id": "cell-5f89cdc9a058dd64",
     "locked": true,
     "points": 2,
     "schema_version": 3,
     "solution": false,
     "task": false
    }
   },
   "outputs": [],
   "source": [
    "# Hidden test for Q2"
   ]
  },
  {
   "cell_type": "code",
   "execution_count": null,
   "metadata": {
    "deletable": false,
    "editable": false,
    "nbgrader": {
     "cell_type": "code",
     "checksum": "6b4bd9471243cb956a1fe035853bbc71",
     "grade": true,
     "grade_id": "cell-51fbe7f480870623",
     "locked": true,
     "points": 2,
     "schema_version": 3,
     "solution": false,
     "task": false
    }
   },
   "outputs": [],
   "source": [
    "# Hidden test for Q2"
   ]
  },
  {
   "cell_type": "code",
   "execution_count": null,
   "metadata": {
    "deletable": false,
    "editable": false,
    "nbgrader": {
     "cell_type": "code",
     "checksum": "58fb4fccada69b608688746cf141204a",
     "grade": true,
     "grade_id": "cell-b83172c88cadeee1",
     "locked": true,
     "points": 2,
     "schema_version": 3,
     "solution": false,
     "task": false
    }
   },
   "outputs": [],
   "source": [
    "# Hidden test for Q2"
   ]
  },
  {
   "cell_type": "markdown",
   "metadata": {
    "deletable": false,
    "editable": false,
    "nbgrader": {
     "cell_type": "markdown",
     "checksum": "7ac3ef5e443beae84682de6c1da01a24",
     "grade": false,
     "grade_id": "cell-3caae29b31b82c77",
     "locked": true,
     "schema_version": 3,
     "solution": false,
     "task": false
    }
   },
   "source": [
    "# Question 3a: I know words [3 points]\n",
    "\n",
    "During his presidential campaing in 2016, Donald Trump said “I know words. I have the best words.”\n",
    "\n",
    "Let's explore this idea in an objective, scientific manner.\n",
    "\n",
    "Write a function `tweets_per_day(jsonurl)` that, given a JSON file, counts the number of tweets that are sent on every day of the week. Return your result as a dictionary, mapping the day of the month to the total number of tweets sent on that day.\n",
    "\n",
    "For this question, you may want to open the file and manually inspect the fields to help parse the data."
   ]
  },
  {
   "cell_type": "code",
   "execution_count": 42,
   "metadata": {
    "deletable": false,
    "nbgrader": {
     "cell_type": "code",
     "checksum": "ab3a70b19657bfe3b4e51c64708d18b1",
     "grade": false,
     "grade_id": "cell-e5359621235b14be",
     "locked": false,
     "schema_version": 3,
     "solution": true,
     "task": false
    }
   },
   "outputs": [],
   "source": [
    "import json\n",
    "\n",
    "def tweets_per_day(jsonurl):\n",
    "    json_dict = json.load(open(jsonurl))\n",
    "    tweets_dict = {}\n",
    "    \n",
    "    for x in json_dict:\n",
    "        day_num = int(x[\"Tweet Posted Time (UTC)\"].split()[0])\n",
    "        \n",
    "        if day_num in tweets_dict:\n",
    "            tweets_dict[day_num] = tweets_dict[day_num] + 1\n",
    "        else: \n",
    "            tweets_dict[day_num] = 1\n",
    "        \n",
    "    return tweets_dict"
   ]
  },
  {
   "cell_type": "code",
   "execution_count": 43,
   "metadata": {
    "deletable": false,
    "editable": false,
    "nbgrader": {
     "cell_type": "code",
     "checksum": "f8f98bccdfe90c2d55943702a2639321",
     "grade": false,
     "grade_id": "cell-6173e8a412c11007",
     "locked": true,
     "schema_version": 3,
     "solution": false,
     "task": false
    }
   },
   "outputs": [
    {
     "name": "stdout",
     "output_type": "stream",
     "text": [
      "Question #3a Test Case #1: You Passed!\n"
     ]
    }
   ],
   "source": [
    "print(\"Question #3a Test Case #1:\", \n",
    "      tester(\n",
    "          tweets_per_day('sample_tweets.json')[29],\n",
    "          12)\n",
    "     )"
   ]
  },
  {
   "cell_type": "code",
   "execution_count": null,
   "metadata": {
    "deletable": false,
    "editable": false,
    "nbgrader": {
     "cell_type": "code",
     "checksum": "142e0fcb3ee78e21f30c30eb31ddff17",
     "grade": true,
     "grade_id": "cell-8d3a30ec632a00c5",
     "locked": true,
     "points": 1,
     "schema_version": 3,
     "solution": false,
     "task": false
    }
   },
   "outputs": [],
   "source": [
    "# Hidden test for Q3a"
   ]
  },
  {
   "cell_type": "code",
   "execution_count": null,
   "metadata": {
    "deletable": false,
    "editable": false,
    "nbgrader": {
     "cell_type": "code",
     "checksum": "37e383f51f9404363592af76a89cbf82",
     "grade": true,
     "grade_id": "cell-f649fea8978a92cc",
     "locked": true,
     "points": 1,
     "schema_version": 3,
     "solution": false,
     "task": false
    }
   },
   "outputs": [],
   "source": [
    "# Hidden test for Q3a"
   ]
  },
  {
   "cell_type": "code",
   "execution_count": null,
   "metadata": {
    "deletable": false,
    "editable": false,
    "nbgrader": {
     "cell_type": "code",
     "checksum": "c02e3f91b0f34d529db01072167fc4af",
     "grade": true,
     "grade_id": "cell-d410dd54c2cd8394",
     "locked": true,
     "points": 1,
     "schema_version": 3,
     "solution": false,
     "task": false
    }
   },
   "outputs": [],
   "source": [
    "# Hidden test for Q3a"
   ]
  },
  {
   "cell_type": "markdown",
   "metadata": {
    "deletable": false,
    "editable": false,
    "nbgrader": {
     "cell_type": "markdown",
     "checksum": "13b7a0bd5cef17f39e4e1f7adada0711",
     "grade": false,
     "grade_id": "cell-d99ea08629518682",
     "locked": true,
     "schema_version": 3,
     "solution": false,
     "task": false
    }
   },
   "source": [
    "# Question 3b: The Best Words [4 points]\n",
    "\n",
    "Write a function `count_occurences(jsonurl, word)` that counts the number of times that `word` occurs across all of the given tweets. This should be case insensitive, but for simplicity, you only need to match whole words. \n",
    "\n",
    "Make sure you match whole words only, and not substrings. For example, if `word = \"dont\"`, then \"dont\", \"DONT\", and \"dOnT\" would all count, but \"perioDONTal\" should not. Remove all punctuation in the text of the tweet (if there is any). \"don't\" should be correctly counted for `word=\"dont\"`.\n",
    "\n",
    "Remove punctuation with no mercy. Go character by character and check if it is punctuation, then kill it. Yeah, `\\n` will become `n`, but that is a price we are willing to pay."
   ]
  },
  {
   "cell_type": "code",
   "execution_count": 145,
   "metadata": {
    "deletable": false,
    "editable": false,
    "nbgrader": {
     "cell_type": "code",
     "checksum": "7da55c88791a27750050e38719dbb0e6",
     "grade": false,
     "grade_id": "cell-2d83b45cef8d14aa",
     "locked": true,
     "schema_version": 3,
     "solution": false,
     "task": false
    }
   },
   "outputs": [
    {
     "name": "stdout",
     "output_type": "stream",
     "text": [
      "Remove all of these symbols from the tweets:\n",
      " !\"#$%&'()*+,-./:;<=>?@[\\]^_`{|}~\n"
     ]
    }
   ],
   "source": [
    "from string import punctuation\n",
    "print(\"Remove all of these symbols from the tweets:\\n\", punctuation)"
   ]
  },
  {
   "cell_type": "code",
   "execution_count": 146,
   "metadata": {
    "deletable": false,
    "nbgrader": {
     "cell_type": "code",
     "checksum": "1fbc462914fbcf53e03ec3c7eb6e99c0",
     "grade": false,
     "grade_id": "cell-f1f5cd141506cf16",
     "locked": false,
     "schema_version": 3,
     "solution": true,
     "task": false
    }
   },
   "outputs": [],
   "source": [
    "import json\n",
    "from string import punctuation\n",
    "\n",
    "def count_occurences(jsonurl, word):\n",
    "    json_dict = json.load(open(jsonurl))\n",
    "    counter = 0\n",
    "    \n",
    "    for x in json_dict:\n",
    "        tweet = (x[\"Tweet Content\"]).translate(str.maketrans('', '', punctuation)).split(' ')\n",
    "        \n",
    "        for i in tweet:\n",
    "            if i.lower() == word.lower():\n",
    "                counter += 1\n",
    "                \n",
    "    return counter\n",
    "    \n"
   ]
  },
  {
   "cell_type": "code",
   "execution_count": 147,
   "metadata": {
    "deletable": false,
    "editable": false,
    "nbgrader": {
     "cell_type": "code",
     "checksum": "df099de50ec3a8c6780b8a1d39a0bc4b",
     "grade": false,
     "grade_id": "cell-ca854f960567637a",
     "locked": true,
     "schema_version": 3,
     "solution": false,
     "task": false
    }
   },
   "outputs": [
    {
     "name": "stdout",
     "output_type": "stream",
     "text": [
      "Question #3b Test Case #1: You Passed!\n",
      "Question #3b Test Case #2: You Passed!\n",
      "Question #3b Test Case #3: You Passed!\n",
      "Question #3b Test Case #4: You Passed!\n"
     ]
    }
   ],
   "source": [
    "print(\"Question #3b Test Case #1:\", \n",
    "      tester(\n",
    "          count_occurences('sample_tweets.json', 'health'), \n",
    "          55)\n",
    "     )\n",
    "print(\"Question #3b Test Case #2:\", \n",
    "      tester(\n",
    "          count_occurences('sample_tweets.json', 'great'), \n",
    "          13)\n",
    "     )\n",
    "print(\"Question #3b Test Case #3:\", \n",
    "      tester(\n",
    "          count_occurences('sample_tweets.json', 'more'), \n",
    "          79)\n",
    "     )\n",
    "print(\"Question #3b Test Case #4:\", \n",
    "      tester(\n",
    "          count_occurences('sample_tweets.json', 'I'), \n",
    "          8)\n",
    "     )"
   ]
  },
  {
   "cell_type": "code",
   "execution_count": null,
   "metadata": {
    "deletable": false,
    "editable": false,
    "nbgrader": {
     "cell_type": "code",
     "checksum": "7de7240796bd98db0a115979f27e3e55",
     "grade": true,
     "grade_id": "cell-9dc0fdd8109dacf4",
     "locked": true,
     "points": 1,
     "schema_version": 3,
     "solution": false,
     "task": false
    }
   },
   "outputs": [],
   "source": [
    "# Hidden test for Q3b"
   ]
  },
  {
   "cell_type": "code",
   "execution_count": null,
   "metadata": {
    "deletable": false,
    "editable": false,
    "nbgrader": {
     "cell_type": "code",
     "checksum": "9b246f9e3f345760b5f1b88558906b11",
     "grade": true,
     "grade_id": "cell-be202953a4f11054",
     "locked": true,
     "points": 1,
     "schema_version": 3,
     "solution": false,
     "task": false
    }
   },
   "outputs": [],
   "source": [
    "# Hidden test for Q3b"
   ]
  },
  {
   "cell_type": "code",
   "execution_count": null,
   "metadata": {
    "deletable": false,
    "editable": false,
    "nbgrader": {
     "cell_type": "code",
     "checksum": "3b44088e6fee5560f23075cb32ce136b",
     "grade": true,
     "grade_id": "cell-88f3056ceae86eda",
     "locked": true,
     "points": 1,
     "schema_version": 3,
     "solution": false,
     "task": false
    }
   },
   "outputs": [],
   "source": [
    "# Hidden test for Q3b"
   ]
  },
  {
   "cell_type": "code",
   "execution_count": null,
   "metadata": {
    "deletable": false,
    "editable": false,
    "nbgrader": {
     "cell_type": "code",
     "checksum": "b16f7fc7a5866093464749f16a2ca21b",
     "grade": true,
     "grade_id": "cell-1e4e40fcdd409b6f",
     "locked": true,
     "points": 1,
     "schema_version": 3,
     "solution": false,
     "task": false
    }
   },
   "outputs": [],
   "source": [
    "# Hidden test for Q3b"
   ]
  },
  {
   "cell_type": "markdown",
   "metadata": {
    "deletable": false,
    "editable": false,
    "nbgrader": {
     "cell_type": "markdown",
     "checksum": "f361d3bb5e6ba8a913d4a16a1a0157bf",
     "grade": false,
     "grade_id": "cell-0f5fa3a776011558",
     "locked": true,
     "schema_version": 3,
     "solution": false,
     "task": false
    }
   },
   "source": [
    "# Bonus - Question 3c: The Most Words. The Best Words. [3 points]\n",
    "\n",
    "Write a function `words_per_day(jsonurl, word)` that counts the total number of times that `word` is tweeted versus the day of the month."
   ]
  },
  {
   "cell_type": "code",
   "execution_count": 143,
   "metadata": {
    "deletable": false,
    "nbgrader": {
     "cell_type": "code",
     "checksum": "8ee5bbb4ef915daa4d7dfea385839588",
     "grade": false,
     "grade_id": "cell-69ebd564630dff5f",
     "locked": false,
     "schema_version": 3,
     "solution": true,
     "task": false
    }
   },
   "outputs": [],
   "source": [
    "import json\n",
    "from string import punctuation\n",
    "\n",
    "def words_per_day(jsonurl, word):\n",
    "    json_dict = json.load(open(jsonurl))\n",
    "    tweets_dict = {}\n",
    "    \n",
    "    for x in json_dict:\n",
    "        day_num = int(x[\"Tweet Posted Time (UTC)\"].split()[0])\n",
    "\n",
    "        if day_num not in tweets_dict:\n",
    "            tweets_dict[day_num] = 0\n",
    "        \n",
    "        tweet_list = (x[\"Tweet Content\"]).translate(str.maketrans('', '', punctuation)).split(' ')\n",
    "        for i in tweet_list:\n",
    "            if word.lower() == i.lower():\n",
    "                tweets_dict[day_num] = tweets_dict[day_num] + 1\n",
    "                \n",
    "    return tweets_dict\n"
   ]
  },
  {
   "cell_type": "code",
   "execution_count": 144,
   "metadata": {
    "deletable": false,
    "editable": false,
    "nbgrader": {
     "cell_type": "code",
     "checksum": "144631368c9c1b8fe392bbb5e09a7cd1",
     "grade": false,
     "grade_id": "cell-48a92a242ac61e23",
     "locked": true,
     "schema_version": 3,
     "solution": false,
     "task": false
    }
   },
   "outputs": [
    {
     "name": "stdout",
     "output_type": "stream",
     "text": [
      "Question #3c Test Case #1: You Passed!\n",
      "Question #3c Test Case #2: You Passed!\n"
     ]
    }
   ],
   "source": [
    "gold = {\n",
    "        30: 0,\n",
    "        29: 0,\n",
    "        28: 0,\n",
    "        27: 3,\n",
    "        26: 0,\n",
    "        24: 0,\n",
    "        23: 0,\n",
    "        22: 0,\n",
    "        20: 0,\n",
    "        19: 0,\n",
    "        17: 0,\n",
    "        16: 0,\n",
    "        15: 0,\n",
    "        14: 0,\n",
    "        13: 0,\n",
    "        10: 0,\n",
    "        9: 0,\n",
    "        8: 0,\n",
    "        7: 0,\n",
    "        6: 0,\n",
    "        4: 0,\n",
    "        3: 0,\n",
    "        2: 0,\n",
    "        1: 0,\n",
    "        31: 0,\n",
    "        25: 0,\n",
    "        21: 0,\n",
    "        18: 0,\n",
    "        12: 0,\n",
    "        11: 0,\n",
    "        5: 0\n",
    "    }\n",
    "health = {\n",
    "        30: 0,\n",
    "        29: 0,\n",
    "        28: 0,\n",
    "        27: 0,\n",
    "        26: 0,\n",
    "        24: 0,\n",
    "        23: 1,\n",
    "        22: 1,\n",
    "        20: 0,\n",
    "        19: 6,\n",
    "        17: 7,\n",
    "        16: 1,\n",
    "        15: 4,\n",
    "        14: 0,\n",
    "        13: 0,\n",
    "        10: 0,\n",
    "        9: 0,\n",
    "        8: 1,\n",
    "        7: 1,\n",
    "        6: 10,\n",
    "        4: 1,\n",
    "        3: 5,\n",
    "        2: 0,\n",
    "        1: 3,\n",
    "        31: 3,\n",
    "        25: 0,\n",
    "        21: 1,\n",
    "        18: 7,\n",
    "        12: 0,\n",
    "        11: 3,\n",
    "        5: 0\n",
    "    }\n",
    "print(\"Question #3c Test Case #1:\", \n",
    "      tester(\n",
    "          words_per_day('sample_tweets.json', 'gold'), \n",
    "          gold)\n",
    "     )\n",
    "print(\"Question #3c Test Case #2:\", \n",
    "      tester(\n",
    "          words_per_day('sample_tweets.json', 'health'), \n",
    "          health)\n",
    "     )"
   ]
  },
  {
   "cell_type": "code",
   "execution_count": null,
   "metadata": {
    "deletable": false,
    "editable": false,
    "nbgrader": {
     "cell_type": "code",
     "checksum": "8276404fd2ddb51d0f671889f7e7e22e",
     "grade": true,
     "grade_id": "cell-f3219ef69dff78e1",
     "locked": true,
     "points": 1,
     "schema_version": 3,
     "solution": false,
     "task": false
    }
   },
   "outputs": [],
   "source": [
    "# Hidden test for Q3c"
   ]
  },
  {
   "cell_type": "code",
   "execution_count": null,
   "metadata": {
    "deletable": false,
    "editable": false,
    "nbgrader": {
     "cell_type": "code",
     "checksum": "7c097b72cf1c45f5d9601de52b70c2e8",
     "grade": true,
     "grade_id": "cell-3c3ac71fda9f058d",
     "locked": true,
     "points": 1,
     "schema_version": 3,
     "solution": false,
     "task": false
    }
   },
   "outputs": [],
   "source": [
    "# Hidden test for Q3c"
   ]
  },
  {
   "cell_type": "code",
   "execution_count": null,
   "metadata": {
    "deletable": false,
    "editable": false,
    "nbgrader": {
     "cell_type": "code",
     "checksum": "17fedb0dd651290061b934e12697b8a6",
     "grade": true,
     "grade_id": "cell-cff94e5e9635a5e5",
     "locked": true,
     "points": 1,
     "schema_version": 3,
     "solution": false,
     "task": false
    }
   },
   "outputs": [],
   "source": [
    "# Hidden test for Q3c"
   ]
  }
 ],
 "metadata": {
  "kernelspec": {
   "display_name": "Python 3 (ipykernel)",
   "language": "python",
   "name": "python3"
  },
  "language_info": {
   "codemirror_mode": {
    "name": "ipython",
    "version": 3
   },
   "file_extension": ".py",
   "mimetype": "text/x-python",
   "name": "python",
   "nbconvert_exporter": "python",
   "pygments_lexer": "ipython3",
   "version": "3.9.13"
  }
 },
 "nbformat": 4,
 "nbformat_minor": 4
}
